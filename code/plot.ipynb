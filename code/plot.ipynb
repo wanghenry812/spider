{
 "cells": [
  {
   "cell_type": "markdown",
   "metadata": {},
   "source": [
    "# 金融数据爬虫可视化"
   ]
  },
  {
   "cell_type": "code",
   "execution_count": 35,
   "metadata": {},
   "outputs": [],
   "source": [
    "import pandas as pd\n",
    "import matplotlib.pyplot as plt\n",
    "import time, re\n",
    "%matplotlib inline"
   ]
  },
  {
   "cell_type": "code",
   "execution_count": 24,
   "metadata": {},
   "outputs": [
    {
     "data": {
      "text/html": [
       "<div>\n",
       "<style scoped>\n",
       "    .dataframe tbody tr th:only-of-type {\n",
       "        vertical-align: middle;\n",
       "    }\n",
       "\n",
       "    .dataframe tbody tr th {\n",
       "        vertical-align: top;\n",
       "    }\n",
       "\n",
       "    .dataframe thead th {\n",
       "        text-align: right;\n",
       "    }\n",
       "</style>\n",
       "<table border=\"1\" class=\"dataframe\">\n",
       "  <thead>\n",
       "    <tr style=\"text-align: right;\">\n",
       "      <th></th>\n",
       "      <th>代码</th>\n",
       "      <th>名称</th>\n",
       "      <th>最新价</th>\n",
       "      <th>涨跌幅</th>\n",
       "      <th>涨跌额</th>\n",
       "      <th>成交量(手)</th>\n",
       "      <th>成交额</th>\n",
       "      <th>振幅</th>\n",
       "      <th>最高</th>\n",
       "      <th>最低</th>\n",
       "      <th>今开</th>\n",
       "      <th>昨收</th>\n",
       "      <th>量比</th>\n",
       "      <th>换手率</th>\n",
       "      <th>市盈率(动态)</th>\n",
       "      <th>市净率</th>\n",
       "    </tr>\n",
       "  </thead>\n",
       "  <tbody>\n",
       "    <tr>\n",
       "      <th>0</th>\n",
       "      <td>300038</td>\n",
       "      <td>数知科技</td>\n",
       "      <td>4.00</td>\n",
       "      <td>20.12%</td>\n",
       "      <td>0.67</td>\n",
       "      <td>107.61万</td>\n",
       "      <td>3.95亿</td>\n",
       "      <td>23.42%</td>\n",
       "      <td>4.00</td>\n",
       "      <td>3.22</td>\n",
       "      <td>3.38</td>\n",
       "      <td>3.33</td>\n",
       "      <td>1.88</td>\n",
       "      <td>9.27%</td>\n",
       "      <td>209.83</td>\n",
       "      <td>0.43</td>\n",
       "    </tr>\n",
       "    <tr>\n",
       "      <th>1</th>\n",
       "      <td>300459</td>\n",
       "      <td>金科文化</td>\n",
       "      <td>3.42</td>\n",
       "      <td>20.00%</td>\n",
       "      <td>0.57</td>\n",
       "      <td>163.48万</td>\n",
       "      <td>5.40亿</td>\n",
       "      <td>10.53%</td>\n",
       "      <td>3.42</td>\n",
       "      <td>3.12</td>\n",
       "      <td>3.20</td>\n",
       "      <td>2.85</td>\n",
       "      <td>2.28</td>\n",
       "      <td>6.65%</td>\n",
       "      <td>14.52</td>\n",
       "      <td>2.76</td>\n",
       "    </tr>\n",
       "    <tr>\n",
       "      <th>2</th>\n",
       "      <td>300305</td>\n",
       "      <td>裕兴股份</td>\n",
       "      <td>9.67</td>\n",
       "      <td>19.98%</td>\n",
       "      <td>1.61</td>\n",
       "      <td>4.82万</td>\n",
       "      <td>4664.87万</td>\n",
       "      <td>0.00%</td>\n",
       "      <td>9.67</td>\n",
       "      <td>9.67</td>\n",
       "      <td>9.67</td>\n",
       "      <td>8.06</td>\n",
       "      <td>2.13</td>\n",
       "      <td>2.07%</td>\n",
       "      <td>23.66</td>\n",
       "      <td>1.75</td>\n",
       "    </tr>\n",
       "    <tr>\n",
       "      <th>3</th>\n",
       "      <td>300894</td>\n",
       "      <td>火星人</td>\n",
       "      <td>58.13</td>\n",
       "      <td>16.05%</td>\n",
       "      <td>8.04</td>\n",
       "      <td>16.56万</td>\n",
       "      <td>9.16亿</td>\n",
       "      <td>19.86%</td>\n",
       "      <td>59.95</td>\n",
       "      <td>50.00</td>\n",
       "      <td>50.00</td>\n",
       "      <td>50.09</td>\n",
       "      <td>0.90</td>\n",
       "      <td>43.55%</td>\n",
       "      <td>113.45</td>\n",
       "      <td>19.21</td>\n",
       "    </tr>\n",
       "    <tr>\n",
       "      <th>4</th>\n",
       "      <td>300321</td>\n",
       "      <td>同大股份</td>\n",
       "      <td>20.00</td>\n",
       "      <td>15.94%</td>\n",
       "      <td>2.75</td>\n",
       "      <td>2.64万</td>\n",
       "      <td>5010.06万</td>\n",
       "      <td>20.35%</td>\n",
       "      <td>20.65</td>\n",
       "      <td>17.14</td>\n",
       "      <td>17.50</td>\n",
       "      <td>17.25</td>\n",
       "      <td>2.95</td>\n",
       "      <td>3.22%</td>\n",
       "      <td>100.68</td>\n",
       "      <td>2.83</td>\n",
       "    </tr>\n",
       "  </tbody>\n",
       "</table>\n",
       "</div>"
      ],
      "text/plain": [
       "       代码    名称    最新价     涨跌幅   涨跌额   成交量(手)       成交额      振幅     最高     最低  \\\n",
       "0  300038  数知科技   4.00  20.12%  0.67  107.61万     3.95亿  23.42%   4.00   3.22   \n",
       "1  300459  金科文化   3.42  20.00%  0.57  163.48万     5.40亿  10.53%   3.42   3.12   \n",
       "2  300305  裕兴股份   9.67  19.98%  1.61    4.82万  4664.87万   0.00%   9.67   9.67   \n",
       "3  300894   火星人  58.13  16.05%  8.04   16.56万     9.16亿  19.86%  59.95  50.00   \n",
       "4  300321  同大股份  20.00  15.94%  2.75    2.64万  5010.06万  20.35%  20.65  17.14   \n",
       "\n",
       "      今开     昨收    量比     换手率 市盈率(动态)    市净率  \n",
       "0   3.38   3.33  1.88   9.27%  209.83   0.43  \n",
       "1   3.20   2.85  2.28   6.65%   14.52   2.76  \n",
       "2   9.67   8.06  2.13   2.07%   23.66   1.75  \n",
       "3  50.00  50.09  0.90  43.55%  113.45  19.21  \n",
       "4  17.50  17.25  2.95   3.22%  100.68   2.83  "
      ]
     },
     "execution_count": 24,
     "metadata": {},
     "output_type": "execute_result"
    }
   ],
   "source": [
    "today = time.strftime('%Y-%m-%d')\n",
    "data = pd.read_csv('../data/{}.csv'.format(today))\n",
    "data = data[data['最新价'] != '-'] # 去掉未上市的股票\n",
    "data.head()"
   ]
  },
  {
   "cell_type": "code",
   "execution_count": 29,
   "metadata": {},
   "outputs": [
    {
     "data": {
      "text/plain": [
       "0       20.12\n",
       "1       20.00\n",
       "2       19.98\n",
       "3       16.05\n",
       "4       15.94\n",
       "        ...  \n",
       "4289   -11.01\n",
       "4290   -12.07\n",
       "4291   -12.13\n",
       "4292   -13.60\n",
       "4293   -13.83\n",
       "Name: 涨跌幅, Length: 4129, dtype: float64"
      ]
     },
     "execution_count": 29,
     "metadata": {},
     "output_type": "execute_result"
    }
   ],
   "source": [
    "pattern = re.compile(r'(-*\\d+\\.\\d+)%')\n",
    "change = data['涨跌幅']\n",
    "change = change.map(lambda x:re.findall(pattern, x)[0]).astype(float)\n",
    "change"
   ]
  },
  {
   "cell_type": "code",
   "execution_count": 32,
   "metadata": {},
   "outputs": [],
   "source": [
    "def count(change):\n",
    "    from collections import defaultdict\n",
    "    res = defaultdict(int)\n",
    "    for num in change:\n",
    "        if num < -7:\n",
    "            res['<-7'] += 1\n",
    "        elif -7 <= num < -5:\n",
    "            res['-5~-7'] += 1\n",
    "        elif -5 <= num < -3:\n",
    "            res['-3~-5'] += 1\n",
    "        elif -3 <= num < 0:\n",
    "            res['-3~0'] += 1\n",
    "        elif num == 0:\n",
    "            res['0'] += 1\n",
    "        elif 0 < num <= 3:\n",
    "            res['0~3'] += 1\n",
    "        elif 3 < num <= 5:\n",
    "            res['3~5'] += 1\n",
    "        elif 5 < num <= 7:\n",
    "            res['5~7'] += 1\n",
    "        elif num > 7:\n",
    "            res['>7'] += 1\n",
    "    return res"
   ]
  },
  {
   "cell_type": "markdown",
   "metadata": {},
   "source": [
    "## 涨跌分布"
   ]
  },
  {
   "cell_type": "code",
   "execution_count": 34,
   "metadata": {},
   "outputs": [
    {
     "data": {
      "image/png": "[encoded data removed]",
      "text/plain": [
       "<Figure size 432x288 with 1 Axes>"
      ]
     },
     "metadata": {
      "needs_background": "light"
     },
     "output_type": "display_data"
    }
   ],
   "source": [
    "res = count(change)\n",
    "res = list(res.items())\n",
    "res.reverse()\n",
    "x = [item[0] for item in res]\n",
    "y = [item[1] for item in res]\n",
    "plt.bar(x, y, color=['g']*4 + ['gray'] + ['r']*4)\n",
    "for x, y in res:\n",
    "    plt.text(x, y, '%d'%y, ha='center', size=12)\n",
    "plt.show()"
   ]
  }
 ],
 "metadata": {
  "kernelspec": {
   "display_name": "Python 3",
   "language": "python",
   "name": "python3"
  },
  "language_info": {
   "codemirror_mode": {
    "name": "ipython",
    "version": 3
   },
   "file_extension": ".py",
   "mimetype": "text/x-python",
   "name": "python",
   "nbconvert_exporter": "python",
   "pygments_lexer": "ipython3",
   "version": "3.7.5"
  },
  "toc": {
   "base_numbering": 1,
   "nav_menu": {},
   "number_sections": true,
   "sideBar": true,
   "skip_h1_title": false,
   "title_cell": "Table of Contents",
   "title_sidebar": "Contents",
   "toc_cell": false,
   "toc_position": {},
   "toc_section_display": true,
   "toc_window_display": false
  }
 },
 "nbformat": 4,
 "nbformat_minor": 2
}
